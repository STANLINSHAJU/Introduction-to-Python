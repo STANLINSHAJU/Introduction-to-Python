{
  "nbformat": 4,
  "nbformat_minor": 0,
  "metadata": {
    "colab": {
      "name": "Python Basics 3.ipynb",
      "provenance": [],
      "collapsed_sections": []
    },
    "kernelspec": {
      "name": "python3",
      "display_name": "Python 3"
    },
    "language_info": {
      "name": "python"
    }
  },
  "cells": [
    {
      "cell_type": "code",
      "execution_count": 5,
      "metadata": {
        "id": "IjIE3xexyN0Q"
      },
      "outputs": [],
      "source": [
        "x=20"
      ]
    },
    {
      "cell_type": "code",
      "source": [
        "if x>10 :\n",
        "  print('x is greater than 10')"
      ],
      "metadata": {
        "colab": {
          "base_uri": "https://localhost:8080/"
        },
        "id": "IgAf8e4z0Um5",
        "outputId": "b44f1699-4a64-458c-85ab-6af87c25a007"
      },
      "execution_count": 6,
      "outputs": [
        {
          "output_type": "stream",
          "name": "stdout",
          "text": [
            "x is greater than 10\n"
          ]
        }
      ]
    },
    {
      "cell_type": "code",
      "source": [
        "x=20\n",
        "if x>10 :\n",
        "  print('x greater than 10')\n",
        "if x<10 :\n",
        "  print('x less than 10')\n",
        "if x==10 :\n",
        "  print('x==10')"
      ],
      "metadata": {
        "colab": {
          "base_uri": "https://localhost:8080/"
        },
        "id": "EgFnbpRx08zw",
        "outputId": "cc27e8d3-7125-49be-c8f9-91c4c730f349"
      },
      "execution_count": 8,
      "outputs": [
        {
          "output_type": "stream",
          "name": "stdout",
          "text": [
            "x greater than 10\n"
          ]
        }
      ]
    },
    {
      "cell_type": "code",
      "source": [
        "x=int(input('enter a number'))\n",
        "if x>100 :\n",
        "  print('pass')\n",
        "if x<100 :\n",
        "  print('fail')\n",
        "if x==100 :\n",
        "  print('pass')\n",
        "  "
      ],
      "metadata": {
        "colab": {
          "base_uri": "https://localhost:8080/"
        },
        "id": "VrDTzrey3mFH",
        "outputId": "9170c79e-fa50-4b0d-f483-3c58d17332a1"
      },
      "execution_count": 14,
      "outputs": [
        {
          "output_type": "stream",
          "name": "stdout",
          "text": [
            "enter a number150\n",
            "pass\n"
          ]
        }
      ]
    },
    {
      "cell_type": "code",
      "source": [
        "x=int(input('enter salary'))\n",
        "if x>250000 :\n",
        "  print(x*10/100)\n",
        "if x<250000 :\n",
        "  print('No tax')"
      ],
      "metadata": {
        "colab": {
          "base_uri": "https://localhost:8080/"
        },
        "id": "ygyaT9cC9INB",
        "outputId": "5ca57fc3-f485-4fb9-d6e2-c0b3ed7651ff"
      },
      "execution_count": 22,
      "outputs": [
        {
          "output_type": "stream",
          "name": "stdout",
          "text": [
            "enter salary350000\n",
            "35000.0\n"
          ]
        }
      ]
    },
    {
      "cell_type": "code",
      "source": [
        ""
      ],
      "metadata": {
        "id": "Cg2MaaN-CGuK"
      },
      "execution_count": 21,
      "outputs": []
    }
  ]
}