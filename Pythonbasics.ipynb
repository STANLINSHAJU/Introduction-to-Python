{
  "nbformat": 4,
  "nbformat_minor": 0,
  "metadata": {
    "colab": {
      "name": "Pythonbasics.ipynb",
      "provenance": [],
      "collapsed_sections": []
    },
    "kernelspec": {
      "name": "python3",
      "display_name": "Python 3"
    },
    "language_info": {
      "name": "python"
    }
  },
  "cells": [
    {
      "cell_type": "code",
      "execution_count": 1,
      "metadata": {
        "colab": {
          "base_uri": "https://localhost:8080/"
        },
        "id": "Axli4UwqZJ-G",
        "outputId": "d77b95df-ede6-4aab-fea3-ff4320c3d8be"
      },
      "outputs": [
        {
          "output_type": "stream",
          "name": "stdout",
          "text": [
            "what is your salary3000000\n",
            "you need to pay tax\n"
          ]
        }
      ],
      "source": [
        "x=input(\"what is your salary\")\n",
        "if int(x)>250000:\n",
        "  print(\"you need to pay tax\")\n",
        "if int(x)<250000:\n",
        "  print(\"you not need to pay tax\")\n",
        "\n",
        "\n"
      ]
    },
    {
      "cell_type": "code",
      "source": [
        ""
      ],
      "metadata": {
        "id": "1Fmxh-0ae443"
      },
      "execution_count": null,
      "outputs": []
    }
  ]
}